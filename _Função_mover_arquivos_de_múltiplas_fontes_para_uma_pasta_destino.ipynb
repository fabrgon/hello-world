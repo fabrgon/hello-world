{
  "nbformat": 4,
  "nbformat_minor": 0,
  "metadata": {
    "colab": {
      "provenance": [],
      "authorship_tag": "ABX9TyM//0fTj3xBHcWfC4O0BKXY",
      "include_colab_link": true
    },
    "kernelspec": {
      "name": "python3",
      "display_name": "Python 3"
    },
    "language_info": {
      "name": "python"
    }
  },
  "cells": [
    {
      "cell_type": "markdown",
      "metadata": {
        "id": "view-in-github",
        "colab_type": "text"
      },
      "source": [
        "<a href=\"https://colab.research.google.com/github/fabrgon/hello-world/blob/master/_Fun%C3%A7%C3%A3o_mover_arquivos_de_m%C3%BAltiplas_fontes_para_uma_pasta_destino.ipynb\" target=\"_parent\"><img src=\"https://colab.research.google.com/assets/colab-badge.svg\" alt=\"Open In Colab\"/></a>"
      ]
    },
    {
      "cell_type": "code",
      "execution_count": null,
      "metadata": {
        "id": "t4UFTRtma3m7"
      },
      "outputs": [],
      "source": [
        "import os\n",
        "import shutil\n",
        "# Função para mover arquivos de múltiplas fontes para uma pasta de destino\n",
        "def copy_files_from_multiple_sources(source_folders, destination_folder, file_extension):\n",
        "    for source_folder in source_folders:\n",
        "        for root, dirs, files in os.walk(source_folder):\n",
        "            for file in files:\n",
        "                if file.endswith(file_extension):\n",
        "                    file_path = os.path.join(root, file)\n",
        "                    shutil.copy(file_path, destination_folder)\n",
        "\n",
        "# Exemplo de uso\n",
        "# Lista de pastas de origem\n",
        "source_folders = ['/Users/fabrgon/Desktop/teste/Bases/Bases/Base1',\n",
        "                  '/Users/fabrgon/Desktop/teste/Bases/Bases/Base2',\n",
        "                  '/Users/fabrgon/Desktop/teste/Bases/Bases/Base3']\n",
        "destination_folder = '/Users/fabrgon/Desktop/teste/Bases/Bases/Consolidada'\n",
        "file_extension = '.csv'  # Substitua pela extensão desejada\n",
        "\n",
        "# Chamada da função\n",
        "copy_files_from_multiple_sources(source_folders, destination_folder, file_extension)\n",
        "copy_files_from_multiple_sources(source_folders, destination_folder, file_extension)\n",
        "\n",
        "import pandas as pd\n",
        "import os\n",
        "# Função para combinar múltiplos arquivos CSV em um único arquivo CSV\n",
        "def combine_csv_files(source_folder, output_file):\n",
        "    # Lista para armazenar os dataframes\n",
        "    dfs = []\n",
        "\n",
        "    # Percorre todos os arquivos no diretório\n",
        "    for filename in os.listdir(source_folder):\n",
        "        if filename.endswith('.csv'):\n",
        "            filepath = os.path.join(source_folder, filename)\n",
        "            df = pd.read_csv(filepath, index_col=None, header=None)\n",
        "            dfs.append(df)\n",
        "\n",
        "    # Combina todos os dataframes em um único dataframe\n",
        "    combined_df = pd.concat(dfs, axis=0, ignore_index=True)\n",
        "\n",
        "    # Salva o dataframe combinado em um novo arquivo CSV\n",
        "    combined_df.to_csv(output_file, index=False)\n",
        "\n",
        "# Exemplo de uso\n",
        "source_folder = '/Users/fabrgon/Desktop/teste/Bases/Bases/Consolidada'\n",
        "output_file = '/Users/fabrgon/Desktop/teste/Bases/Bases/Consolidada2/Consolidada2.csv'\n",
        "\n",
        "combine_csv_files(source_folder, output_file)\n",
        "# Passo 1: Ler os Arquivos CSV\n",
        "for filename in os.listdir(source_folder):\n",
        "    if filename.endswith('.csv'):\n",
        "        filepath = os.path.join(source_folder, filename)\n",
        "        df = pd.read_csv(filepath, index_col=None, header=0)\n",
        "        print(f\"Conteúdo do arquivo {filename}:\")\n",
        "        print(df.head())  # Imprime as primeiras linhas do dataframe\n",
        "        dfs = []  # Define the dfs variable as an empty list\n",
        "\n",
        "# Passo 2: Ler os Arquivos CSV\n",
        "# Lendo o arquivo Consolidada2.csv\n",
        "df_consolidada = pd.read_csv('/Users/fabrgon/Desktop/teste/Bases/Bases/Consolidada2/Consolidada2.csv')\n",
        "\n",
        "# Lendo o OutroArquivo.csv\n",
        "df_outro = pd.read_csv('/Users/fabrgon/Desktop/teste/Bases/Bases/Consolidada2/Consolidada3.csv')\n",
        "\n",
        "#Passo 3: Realizar a Operação de Merge (PROCV)\n",
        "# Supondo que 'coluna_comum' é a coluna que você deseja usar para o PROCV\n",
        "df_merged = pd.merge(df_consolidada, df_outro, on='0', how='left')\n",
        "\n",
        "#Passo 4: Salvar o Resultado (Opcional)\n",
        "df_merged.to_csv('/Users/fabrgon/Desktop/teste/Bases/Bases/Consolidada2/Consolidada4.csv', index=False)"
      ]
    }
  ]
}